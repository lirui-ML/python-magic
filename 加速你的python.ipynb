{
 "cells": [
  {
   "cell_type": "markdown",
   "metadata": {},
   "source": [
    "### 1. 测算代码运算时间"
   ]
  },
  {
   "cell_type": "markdown",
   "metadata": {},
   "source": [
    "#### 平凡方法"
   ]
  },
  {
   "cell_type": "code",
   "execution_count": 1,
   "metadata": {},
   "outputs": [
    {
     "name": "stdout",
     "output_type": "stream",
     "text": [
      "used 0.14775s\n"
     ]
    }
   ],
   "source": [
    "import time \n",
    "tic = time.time()\n",
    "much_job = [x ** 2 for x in range(1, 1000000, 3)]\n",
    "toc = time.time()\n",
    "print(\"used {:.5}s\".format(toc - tic))"
   ]
  },
  {
   "cell_type": "markdown",
   "metadata": {},
   "source": [
    "#### jupyter环境"
   ]
  },
  {
   "cell_type": "code",
   "execution_count": 2,
   "metadata": {},
   "outputs": [
    {
     "name": "stdout",
     "output_type": "stream",
     "text": [
      "Wall time: 144 ms\n"
     ]
    }
   ],
   "source": [
    "%%time\n",
    "much_job = [x ** 2 for x in range(1, 1000000, 3)]"
   ]
  },
  {
   "cell_type": "markdown",
   "metadata": {},
   "source": [
    "### 2. 测算代码多次运行平均时间"
   ]
  },
  {
   "cell_type": "markdown",
   "metadata": {},
   "source": [
    "#### 平凡方法"
   ]
  },
  {
   "cell_type": "code",
   "execution_count": 3,
   "metadata": {},
   "outputs": [
    {
     "data": {
      "text/plain": [
       "1.777775409550486e-05"
      ]
     },
     "execution_count": 3,
     "metadata": {},
     "output_type": "execute_result"
    }
   ],
   "source": [
    "from timeit import timeit\n",
    "g = lambda x:x ** 2 + 1\n",
    "def main():\n",
    "    return (g(2) ** 120)\n",
    "timeit('main()',globals={'main':main},number=10)"
   ]
  },
  {
   "cell_type": "markdown",
   "metadata": {},
   "source": [
    "#### 快捷方法（jupyter环境）"
   ]
  },
  {
   "cell_type": "code",
   "execution_count": 4,
   "metadata": {},
   "outputs": [
    {
     "name": "stdout",
     "output_type": "stream",
     "text": [
      "1.65 µs ± 180 ns per loop (mean ± std. dev. of 7 runs, 10 loops each)\n"
     ]
    }
   ],
   "source": [
    "%%timeit -n 10\n",
    "g = lambda x:x ** 2 + 1\n",
    "def main():\n",
    "    return (g(2) ** 120)\n",
    "main()"
   ]
  },
  {
   "cell_type": "markdown",
   "metadata": {},
   "source": [
    "### 3. 按调用函数分析代码运行时间"
   ]
  },
  {
   "cell_type": "markdown",
   "metadata": {},
   "source": [
    "#### 平凡方法"
   ]
  },
  {
   "cell_type": "code",
   "execution_count": 5,
   "metadata": {},
   "outputs": [],
   "source": [
    "def relu(x):\n",
    "    return x if x > 0 else 0\n",
    "def main():\n",
    "    result = [relu(x) for x in range(-10000,10000,1)]\n",
    "    return result"
   ]
  },
  {
   "cell_type": "code",
   "execution_count": 6,
   "metadata": {},
   "outputs": [
    {
     "name": "stdout",
     "output_type": "stream",
     "text": [
      "         20006 function calls in 0.031 seconds\n",
      "\n",
      "   Ordered by: standard name\n",
      "\n",
      "   ncalls  tottime  percall  cumtime  percall filename:lineno(function)\n",
      "        1    0.000    0.000    0.031    0.031 :0(exec)\n",
      "        1    0.000    0.000    0.000    0.000 :0(setprofile)\n",
      "    20000    0.000    0.000    0.000    0.000 <ipython-input-5-e084a4768f8a>:1(relu)\n",
      "        1    0.000    0.000    0.031    0.031 <ipython-input-5-e084a4768f8a>:3(main)\n",
      "        1    0.031    0.031    0.031    0.031 <ipython-input-5-e084a4768f8a>:4(<listcomp>)\n",
      "        1    0.000    0.000    0.031    0.031 <string>:1(<module>)\n",
      "        1    0.000    0.000    0.031    0.031 profile:0(main())\n",
      "        0    0.000             0.000          profile:0(profiler)\n",
      "\n",
      "\n"
     ]
    }
   ],
   "source": [
    "import profile\n",
    "profile.run('main()')"
   ]
  },
  {
   "cell_type": "markdown",
   "metadata": {},
   "source": [
    "#### 快捷方法（jupyter环境）"
   ]
  },
  {
   "cell_type": "code",
   "execution_count": 7,
   "metadata": {},
   "outputs": [
    {
     "name": "stdout",
     "output_type": "stream",
     "text": [
      " "
     ]
    }
   ],
   "source": [
    "%prun main()"
   ]
  },
  {
   "cell_type": "markdown",
   "metadata": {},
   "source": [
    "### 5. 用set而非list进行查找"
   ]
  },
  {
   "cell_type": "markdown",
   "metadata": {},
   "source": [
    "#### 低速方法"
   ]
  },
  {
   "cell_type": "code",
   "execution_count": 8,
   "metadata": {},
   "outputs": [],
   "source": [
    "data = (i ** 2 + 1 for i in range(1000000))\n",
    "list_data = list(data)\n",
    "set_data = set(data)"
   ]
  },
  {
   "cell_type": "code",
   "execution_count": 9,
   "metadata": {},
   "outputs": [
    {
     "name": "stdout",
     "output_type": "stream",
     "text": [
      "Wall time: 12.5 ms\n"
     ]
    },
    {
     "data": {
      "text/plain": [
       "False"
      ]
     },
     "execution_count": 9,
     "metadata": {},
     "output_type": "execute_result"
    }
   ],
   "source": [
    "%%time\n",
    "1098987 in list_data"
   ]
  },
  {
   "cell_type": "markdown",
   "metadata": {},
   "source": [
    "#### 高速方法"
   ]
  },
  {
   "cell_type": "code",
   "execution_count": 10,
   "metadata": {},
   "outputs": [
    {
     "name": "stdout",
     "output_type": "stream",
     "text": [
      "Wall time: 0 ns\n"
     ]
    },
    {
     "data": {
      "text/plain": [
       "False"
      ]
     },
     "execution_count": 10,
     "metadata": {},
     "output_type": "execute_result"
    }
   ],
   "source": [
    "%%time\n",
    "1098987 in set_data"
   ]
  },
  {
   "cell_type": "markdown",
   "metadata": {},
   "source": [
    "### 6. 用dict而非两个list进行匹配查找"
   ]
  },
  {
   "cell_type": "markdown",
   "metadata": {},
   "source": [
    "#### 低速方法"
   ]
  },
  {
   "cell_type": "code",
   "execution_count": 11,
   "metadata": {},
   "outputs": [],
   "source": [
    "list_a = [2 * i - 1 for i in range(1000000)]\n",
    "list_b = [i ** 2 for i in list_a]\n",
    "dict_ab = dict(zip(list_a,list_b))"
   ]
  },
  {
   "cell_type": "code",
   "execution_count": 12,
   "metadata": {},
   "outputs": [
    {
     "name": "stdout",
     "output_type": "stream",
     "text": [
      "768369705489\n",
      "Wall time: 8.52 ms\n"
     ]
    }
   ],
   "source": [
    "%%time\n",
    "print(list_b[list_a.index(876567)])"
   ]
  },
  {
   "cell_type": "markdown",
   "metadata": {},
   "source": [
    "#### 高速方法"
   ]
  },
  {
   "cell_type": "code",
   "execution_count": 13,
   "metadata": {},
   "outputs": [
    {
     "name": "stdout",
     "output_type": "stream",
     "text": [
      "768369705489\n",
      "Wall time: 0 ns\n"
     ]
    }
   ],
   "source": [
    "%%time\n",
    "print(dict_ab.get(876567,None))"
   ]
  },
  {
   "cell_type": "markdown",
   "metadata": {},
   "source": [
    "### 7. 优先使用for循环而不是while循环"
   ]
  },
  {
   "cell_type": "markdown",
   "metadata": {},
   "source": [
    "#### 低速方法"
   ]
  },
  {
   "cell_type": "code",
   "execution_count": 18,
   "metadata": {},
   "outputs": [
    {
     "name": "stdout",
     "output_type": "stream",
     "text": [
      "50005000\n",
      "Wall time: 4.04 ms\n"
     ]
    }
   ],
   "source": [
    "%%time\n",
    "s,i = 0,0\n",
    "while i < 10000:\n",
    "    i = i + 1\n",
    "    s = s + i\n",
    "print(s)"
   ]
  },
  {
   "cell_type": "markdown",
   "metadata": {},
   "source": [
    "#### 高速方法"
   ]
  },
  {
   "cell_type": "code",
   "execution_count": 19,
   "metadata": {},
   "outputs": [
    {
     "name": "stdout",
     "output_type": "stream",
     "text": [
      "50005000\n",
      "Wall time: 1.5 ms\n"
     ]
    }
   ],
   "source": [
    "%%time\n",
    "s = 0\n",
    "for i in range(1,10001):\n",
    "    s = s + i\n",
    "print(s)"
   ]
  },
  {
   "cell_type": "markdown",
   "metadata": {},
   "source": [
    "### 8. 在循环体中避免重复计算"
   ]
  },
  {
   "cell_type": "markdown",
   "metadata": {},
   "source": [
    "#### 低速方法"
   ]
  },
  {
   "cell_type": "code",
   "execution_count": 20,
   "metadata": {},
   "outputs": [],
   "source": [
    "a = [i ** 2 + 1 for i in range(2000)]"
   ]
  },
  {
   "cell_type": "code",
   "execution_count": 21,
   "metadata": {},
   "outputs": [
    {
     "name": "stdout",
     "output_type": "stream",
     "text": [
      "Wall time: 43.6 ms\n"
     ]
    }
   ],
   "source": [
    "%%time\n",
    "b = [i / sum(a) for i in a]"
   ]
  },
  {
   "cell_type": "markdown",
   "metadata": {},
   "source": [
    "#### 高速方法"
   ]
  },
  {
   "cell_type": "code",
   "execution_count": 22,
   "metadata": {},
   "outputs": [
    {
     "name": "stdout",
     "output_type": "stream",
     "text": [
      "Wall time: 0 ns\n"
     ]
    }
   ],
   "source": [
    "%%time\n",
    "sum_a = sum(a)\n",
    "b = [i /sum_a for i in a]"
   ]
  },
  {
   "cell_type": "markdown",
   "metadata": {},
   "source": [
    "### 9. 用循环机制代替递归函数"
   ]
  },
  {
   "cell_type": "markdown",
   "metadata": {},
   "source": [
    "#### 低速方法"
   ]
  },
  {
   "cell_type": "code",
   "execution_count": 23,
   "metadata": {},
   "outputs": [
    {
     "name": "stdout",
     "output_type": "stream",
     "text": [
      "832040\n",
      "Wall time: 290 ms\n"
     ]
    }
   ],
   "source": [
    "%%time\n",
    "def fib(n):\n",
    "    return 1 if n in (1,2) else fib(n - 1) + fib(n - 2)\n",
    "print(fib(30))"
   ]
  },
  {
   "cell_type": "markdown",
   "metadata": {},
   "source": [
    "#### 高速方法"
   ]
  },
  {
   "cell_type": "code",
   "execution_count": 24,
   "metadata": {},
   "outputs": [
    {
     "name": "stdout",
     "output_type": "stream",
     "text": [
      "832040\n",
      "Wall time: 0 ns\n"
     ]
    }
   ],
   "source": [
    "%%time\n",
    "def fib(n):\n",
    "    if n in (1,2):\n",
    "        return 1\n",
    "    a , b = 1, 1\n",
    "    for i in range(2,n):\n",
    "        a,b = b,a+b\n",
    "    return b\n",
    "print(fib(30))"
   ]
  },
  {
   "cell_type": "markdown",
   "metadata": {},
   "source": [
    "### 10. 用缓存机制加速递归函数"
   ]
  },
  {
   "cell_type": "markdown",
   "metadata": {},
   "source": [
    "#### 低速方法"
   ]
  },
  {
   "cell_type": "code",
   "execution_count": 25,
   "metadata": {},
   "outputs": [
    {
     "name": "stdout",
     "output_type": "stream",
     "text": [
      "832040\n",
      "Wall time: 283 ms\n"
     ]
    }
   ],
   "source": [
    "%%time\n",
    "def fib(n):\n",
    "    return 1 if n in (1,2) else fib(n - 1) + fib(n - 2)\n",
    "print(fib(30))"
   ]
  },
  {
   "cell_type": "markdown",
   "metadata": {},
   "source": [
    "#### 高速方法"
   ]
  },
  {
   "cell_type": "code",
   "execution_count": 26,
   "metadata": {},
   "outputs": [
    {
     "name": "stdout",
     "output_type": "stream",
     "text": [
      "832040\n",
      "Wall time: 0 ns\n"
     ]
    }
   ],
   "source": [
    "%%time\n",
    "from functools import lru_cache\n",
    "@lru_cache(100)\n",
    "def fib(n):\n",
    "    return 1 if n in (1,2) else fib(n - 1) + fib(n - 2)\n",
    "print(fib(30))"
   ]
  },
  {
   "cell_type": "markdown",
   "metadata": {},
   "source": [
    "### 11. 用numba加速Python函数"
   ]
  },
  {
   "cell_type": "markdown",
   "metadata": {},
   "source": [
    "#### 低速方法"
   ]
  },
  {
   "cell_type": "code",
   "execution_count": 27,
   "metadata": {},
   "outputs": [
    {
     "name": "stdout",
     "output_type": "stream",
     "text": [
      "333333833333500000\n",
      "Wall time: 513 ms\n"
     ]
    }
   ],
   "source": [
    "%%time\n",
    "def my_power(x):\n",
    "    return x ** 2\n",
    "def my_powwe_sum(n):\n",
    "    s = 0\n",
    "    for i in range(1,n+1):\n",
    "        s = s + my_power(i)\n",
    "    return s\n",
    "print(my_powwe_sum(1000000))"
   ]
  },
  {
   "cell_type": "markdown",
   "metadata": {},
   "source": [
    "#### 高速方法"
   ]
  },
  {
   "cell_type": "code",
   "execution_count": 30,
   "metadata": {},
   "outputs": [
    {
     "name": "stdout",
     "output_type": "stream",
     "text": [
      "333333833333500000\n",
      "Wall time: 78.7 ms\n"
     ]
    }
   ],
   "source": [
    "%%time\n",
    "from numba import jit\n",
    "@jit\n",
    "def my_power(x):\n",
    "    return x ** 2\n",
    "@jit\n",
    "def my_powwe_sum(n):\n",
    "    s = 0\n",
    "    for i in range(1,n+1):\n",
    "        s = s + my_power(i)\n",
    "    return s\n",
    "print(my_powwe_sum(1000000))"
   ]
  },
  {
   "cell_type": "markdown",
   "metadata": {},
   "source": [
    "### 12. 使用collections.Counter加速计数"
   ]
  },
  {
   "cell_type": "markdown",
   "metadata": {},
   "source": [
    "#### 低速方法"
   ]
  },
  {
   "cell_type": "code",
   "execution_count": 32,
   "metadata": {},
   "outputs": [],
   "source": [
    "data = [x ** 2 % 1989 for x in range(2000000)]"
   ]
  },
  {
   "cell_type": "code",
   "execution_count": 33,
   "metadata": {},
   "outputs": [
    {
     "name": "stdout",
     "output_type": "stream",
     "text": [
      "8044\n",
      "Wall time: 750 ms\n"
     ]
    }
   ],
   "source": [
    "%%time\n",
    "values_count = {}\n",
    "for i in data:\n",
    "    i_cnt = values_count.get(i,0)\n",
    "    values_count[i] = i_cnt + 1\n",
    "print(values_count.get(4,0))"
   ]
  },
  {
   "cell_type": "markdown",
   "metadata": {},
   "source": [
    "#### 高速方法"
   ]
  },
  {
   "cell_type": "code",
   "execution_count": 34,
   "metadata": {},
   "outputs": [
    {
     "name": "stdout",
     "output_type": "stream",
     "text": [
      "8044\n",
      "Wall time: 211 ms\n"
     ]
    }
   ],
   "source": [
    "%%time\n",
    "from collections import Counter\n",
    "values_count = Counter(data)\n",
    "print(values_count.get(4,0))"
   ]
  },
  {
   "cell_type": "markdown",
   "metadata": {},
   "source": [
    "### 13. 使用collections.ChainMap加速字典合并"
   ]
  },
  {
   "cell_type": "markdown",
   "metadata": {},
   "source": [
    "#### 低速方法"
   ]
  },
  {
   "cell_type": "code",
   "execution_count": 41,
   "metadata": {},
   "outputs": [],
   "source": [
    "dic_a = {i:i + 1 for i in range(1,1000000,2)}\n",
    "dic_b = {i:2 * i + 1 for i in range(1,1000000,3)}\n",
    "dic_c = {i:3 * i + 1 for i in range(1,1000000,5)}\n",
    "dic_d = {i:4 * i + 1 for i in range(1,1000000,7)}"
   ]
  },
  {
   "cell_type": "code",
   "execution_count": 44,
   "metadata": {},
   "outputs": [
    {
     "name": "stdout",
     "output_type": "stream",
     "text": [
      "10000\n",
      "Wall time: 117 ms\n"
     ]
    }
   ],
   "source": [
    "%%time\n",
    "result = dic_a.copy()\n",
    "result.update(dic_b)\n",
    "result.update(dic_c)\n",
    "result.update(dic_d)\n",
    "print(result.get(9999,0))"
   ]
  },
  {
   "cell_type": "markdown",
   "metadata": {},
   "source": [
    "#### 高速方法"
   ]
  },
  {
   "cell_type": "code",
   "execution_count": 45,
   "metadata": {},
   "outputs": [
    {
     "name": "stdout",
     "output_type": "stream",
     "text": [
      "10000\n",
      "Wall time: 0 ns\n"
     ]
    }
   ],
   "source": [
    "%%time\n",
    "from collections import ChainMap\n",
    "chain = ChainMap(dic_a,dic_b,dic_c,dic_d)\n",
    "###print(chain.get(9999,0))"
   ]
  },
  {
   "cell_type": "markdown",
   "metadata": {},
   "source": [
    "## 使用numpy向量化加速\n",
    "### 14. 使用np.array代替list"
   ]
  },
  {
   "cell_type": "markdown",
   "metadata": {},
   "source": [
    "#### 低速方法"
   ]
  },
  {
   "cell_type": "code",
   "execution_count": 46,
   "metadata": {},
   "outputs": [
    {
     "name": "stdout",
     "output_type": "stream",
     "text": [
      "Wall time: 173 ms\n"
     ]
    }
   ],
   "source": [
    "%%time\n",
    "a = range(1,1000000,3)\n",
    "b = range(1000000,1,-3)\n",
    "c = [3 * a[i] - 2 * b[i] for i in range(0,len(a))]"
   ]
  },
  {
   "cell_type": "markdown",
   "metadata": {},
   "source": [
    "#### 高速方法"
   ]
  },
  {
   "cell_type": "code",
   "execution_count": 48,
   "metadata": {},
   "outputs": [
    {
     "name": "stdout",
     "output_type": "stream",
     "text": [
      "Wall time: 5.01 ms\n"
     ]
    }
   ],
   "source": [
    "%%time\n",
    "import numpy as np\n",
    "array_a = np.arange(1,1000000,3)\n",
    "array_b = np.arange(1000000,1,-3)\n",
    "array_c = 3 * array_a - 2 * array_b"
   ]
  },
  {
   "cell_type": "markdown",
   "metadata": {},
   "source": [
    "### 15. 使用np.ufunc代替math.func"
   ]
  },
  {
   "cell_type": "markdown",
   "metadata": {},
   "source": [
    "#### 低速方法"
   ]
  },
  {
   "cell_type": "code",
   "execution_count": 49,
   "metadata": {},
   "outputs": [
    {
     "name": "stdout",
     "output_type": "stream",
     "text": [
      "Wall time: 66.2 ms\n"
     ]
    }
   ],
   "source": [
    "%%time\n",
    "import math\n",
    "a = range(1,1000000,3)\n",
    "b = [math.log(x) for x in a]"
   ]
  },
  {
   "cell_type": "markdown",
   "metadata": {},
   "source": [
    "#### 高速方法"
   ]
  },
  {
   "cell_type": "code",
   "execution_count": 51,
   "metadata": {},
   "outputs": [
    {
     "name": "stdout",
     "output_type": "stream",
     "text": [
      "Wall time: 6.02 ms\n"
     ]
    }
   ],
   "source": [
    "%%time\n",
    "array_a = np.arange(1,1000000,3)\n",
    "array_b = np.log(array_a)"
   ]
  },
  {
   "cell_type": "markdown",
   "metadata": {},
   "source": [
    "### 16. 使用np.where代替if"
   ]
  },
  {
   "cell_type": "markdown",
   "metadata": {},
   "source": [
    "#### 低速方法"
   ]
  },
  {
   "cell_type": "code",
   "execution_count": 52,
   "metadata": {},
   "outputs": [],
   "source": [
    "array_a = np.arange(-100000,100000)"
   ]
  },
  {
   "cell_type": "code",
   "execution_count": 54,
   "metadata": {},
   "outputs": [
    {
     "name": "stdout",
     "output_type": "stream",
     "text": [
      "Wall time: 47.6 ms\n"
     ]
    }
   ],
   "source": [
    "%%time\n",
    "# np.vectorize可以将普通函数转换成支持向量化的函数\n",
    "relu = np.vectorize(lambda x:x if x > 0 else 0)\n",
    "array_b = relu(array_a)"
   ]
  },
  {
   "cell_type": "markdown",
   "metadata": {},
   "source": [
    "#### 高速方法"
   ]
  },
  {
   "cell_type": "code",
   "execution_count": 55,
   "metadata": {},
   "outputs": [
    {
     "name": "stdout",
     "output_type": "stream",
     "text": [
      "Wall time: 3.02 ms\n"
     ]
    }
   ],
   "source": [
    "%%time\n",
    "relu = lambda x:np.where(x > 0 ,x,0)\n",
    "array_b = relu(array_a)"
   ]
  },
  {
   "cell_type": "markdown",
   "metadata": {},
   "source": [
    "## 加速你的Pandas\n",
    "### 17. 使用np.ufunc函数代替applymap"
   ]
  },
  {
   "cell_type": "markdown",
   "metadata": {},
   "source": [
    "#### 低速方法"
   ]
  },
  {
   "cell_type": "code",
   "execution_count": 56,
   "metadata": {},
   "outputs": [
    {
     "name": "stdout",
     "output_type": "stream",
     "text": [
      "Wall time: 8.38 s\n"
     ]
    }
   ],
   "source": [
    "import numpy as np\n",
    "import pandas as pd\n",
    "df = pd.DataFrame(np.random.randint(-10,11,size=(100000,26)),columns=list(\"abcdefghijklmnopqrstuvwxyz\"))\n",
    "\n",
    "%time dfresult = df.applymap(lambda x:np.sin(x) + np.cos(x))"
   ]
  },
  {
   "cell_type": "code",
   "execution_count": 57,
   "metadata": {},
   "outputs": [
    {
     "data": {
      "text/html": [
       "<div>\n",
       "<style scoped>\n",
       "    .dataframe tbody tr th:only-of-type {\n",
       "        vertical-align: middle;\n",
       "    }\n",
       "\n",
       "    .dataframe tbody tr th {\n",
       "        vertical-align: top;\n",
       "    }\n",
       "\n",
       "    .dataframe thead th {\n",
       "        text-align: right;\n",
       "    }\n",
       "</style>\n",
       "<table border=\"1\" class=\"dataframe\">\n",
       "  <thead>\n",
       "    <tr style=\"text-align: right;\">\n",
       "      <th></th>\n",
       "      <th>a</th>\n",
       "      <th>b</th>\n",
       "      <th>c</th>\n",
       "      <th>d</th>\n",
       "      <th>e</th>\n",
       "      <th>f</th>\n",
       "      <th>g</th>\n",
       "      <th>h</th>\n",
       "      <th>i</th>\n",
       "      <th>j</th>\n",
       "      <th>...</th>\n",
       "      <th>q</th>\n",
       "      <th>r</th>\n",
       "      <th>s</th>\n",
       "      <th>t</th>\n",
       "      <th>u</th>\n",
       "      <th>v</th>\n",
       "      <th>w</th>\n",
       "      <th>x</th>\n",
       "      <th>y</th>\n",
       "      <th>z</th>\n",
       "    </tr>\n",
       "  </thead>\n",
       "  <tbody>\n",
       "    <tr>\n",
       "      <th>0</th>\n",
       "      <td>1.381773</td>\n",
       "      <td>1.242586</td>\n",
       "      <td>0.493151</td>\n",
       "      <td>-1.410446</td>\n",
       "      <td>-1.134858</td>\n",
       "      <td>-1.131113</td>\n",
       "      <td>0.103159</td>\n",
       "      <td>0.843858</td>\n",
       "      <td>1.381773</td>\n",
       "      <td>0.096916</td>\n",
       "      <td>...</td>\n",
       "      <td>-1.383093</td>\n",
       "      <td>-0.499012</td>\n",
       "      <td>1.239586</td>\n",
       "      <td>-0.499012</td>\n",
       "      <td>-0.301169</td>\n",
       "      <td>1.381773</td>\n",
       "      <td>1.381773</td>\n",
       "      <td>1.000000</td>\n",
       "      <td>1.000000</td>\n",
       "      <td>1.000000</td>\n",
       "    </tr>\n",
       "    <tr>\n",
       "      <th>1</th>\n",
       "      <td>-0.848872</td>\n",
       "      <td>-1.325444</td>\n",
       "      <td>-1.325444</td>\n",
       "      <td>-0.848872</td>\n",
       "      <td>0.096916</td>\n",
       "      <td>-1.131113</td>\n",
       "      <td>0.103159</td>\n",
       "      <td>-0.675262</td>\n",
       "      <td>1.410889</td>\n",
       "      <td>1.239586</td>\n",
       "      <td>...</td>\n",
       "      <td>-1.323249</td>\n",
       "      <td>-0.295050</td>\n",
       "      <td>1.381773</td>\n",
       "      <td>-1.323249</td>\n",
       "      <td>1.381773</td>\n",
       "      <td>0.096916</td>\n",
       "      <td>-0.295050</td>\n",
       "      <td>-0.848872</td>\n",
       "      <td>1.410889</td>\n",
       "      <td>0.103159</td>\n",
       "    </tr>\n",
       "    <tr>\n",
       "      <th>2</th>\n",
       "      <td>1.000000</td>\n",
       "      <td>1.410889</td>\n",
       "      <td>-1.410446</td>\n",
       "      <td>1.410889</td>\n",
       "      <td>1.242586</td>\n",
       "      <td>1.242586</td>\n",
       "      <td>-1.134858</td>\n",
       "      <td>-0.499012</td>\n",
       "      <td>-0.301169</td>\n",
       "      <td>-1.131113</td>\n",
       "      <td>...</td>\n",
       "      <td>-0.675262</td>\n",
       "      <td>-1.323249</td>\n",
       "      <td>-0.848872</td>\n",
       "      <td>0.493151</td>\n",
       "      <td>0.843858</td>\n",
       "      <td>-1.131113</td>\n",
       "      <td>-1.131113</td>\n",
       "      <td>1.410889</td>\n",
       "      <td>1.000000</td>\n",
       "      <td>1.000000</td>\n",
       "    </tr>\n",
       "    <tr>\n",
       "      <th>3</th>\n",
       "      <td>-1.134858</td>\n",
       "      <td>-0.301169</td>\n",
       "      <td>0.843858</td>\n",
       "      <td>-0.295050</td>\n",
       "      <td>-0.499012</td>\n",
       "      <td>-1.323249</td>\n",
       "      <td>-0.295050</td>\n",
       "      <td>0.493151</td>\n",
       "      <td>1.242586</td>\n",
       "      <td>-0.675262</td>\n",
       "      <td>...</td>\n",
       "      <td>1.242586</td>\n",
       "      <td>1.000000</td>\n",
       "      <td>0.680755</td>\n",
       "      <td>0.843858</td>\n",
       "      <td>-0.295050</td>\n",
       "      <td>-0.295050</td>\n",
       "      <td>-0.295050</td>\n",
       "      <td>0.493151</td>\n",
       "      <td>-1.383093</td>\n",
       "      <td>0.493151</td>\n",
       "    </tr>\n",
       "    <tr>\n",
       "      <th>4</th>\n",
       "      <td>1.381773</td>\n",
       "      <td>1.242586</td>\n",
       "      <td>0.103159</td>\n",
       "      <td>-1.325444</td>\n",
       "      <td>-1.325444</td>\n",
       "      <td>1.239586</td>\n",
       "      <td>-1.410446</td>\n",
       "      <td>-0.675262</td>\n",
       "      <td>-1.323249</td>\n",
       "      <td>1.410889</td>\n",
       "      <td>...</td>\n",
       "      <td>0.680755</td>\n",
       "      <td>-1.410446</td>\n",
       "      <td>-1.410446</td>\n",
       "      <td>1.000000</td>\n",
       "      <td>-1.325444</td>\n",
       "      <td>-0.848872</td>\n",
       "      <td>1.242586</td>\n",
       "      <td>1.381773</td>\n",
       "      <td>-1.383093</td>\n",
       "      <td>1.000000</td>\n",
       "    </tr>\n",
       "  </tbody>\n",
       "</table>\n",
       "<p>5 rows × 26 columns</p>\n",
       "</div>"
      ],
      "text/plain": [
       "          a         b         c         d         e         f         g  \\\n",
       "0  1.381773  1.242586  0.493151 -1.410446 -1.134858 -1.131113  0.103159   \n",
       "1 -0.848872 -1.325444 -1.325444 -0.848872  0.096916 -1.131113  0.103159   \n",
       "2  1.000000  1.410889 -1.410446  1.410889  1.242586  1.242586 -1.134858   \n",
       "3 -1.134858 -0.301169  0.843858 -0.295050 -0.499012 -1.323249 -0.295050   \n",
       "4  1.381773  1.242586  0.103159 -1.325444 -1.325444  1.239586 -1.410446   \n",
       "\n",
       "          h         i         j    ...            q         r         s  \\\n",
       "0  0.843858  1.381773  0.096916    ...    -1.383093 -0.499012  1.239586   \n",
       "1 -0.675262  1.410889  1.239586    ...    -1.323249 -0.295050  1.381773   \n",
       "2 -0.499012 -0.301169 -1.131113    ...    -0.675262 -1.323249 -0.848872   \n",
       "3  0.493151  1.242586 -0.675262    ...     1.242586  1.000000  0.680755   \n",
       "4 -0.675262 -1.323249  1.410889    ...     0.680755 -1.410446 -1.410446   \n",
       "\n",
       "          t         u         v         w         x         y         z  \n",
       "0 -0.499012 -0.301169  1.381773  1.381773  1.000000  1.000000  1.000000  \n",
       "1 -1.323249  1.381773  0.096916 -0.295050 -0.848872  1.410889  0.103159  \n",
       "2  0.493151  0.843858 -1.131113 -1.131113  1.410889  1.000000  1.000000  \n",
       "3  0.843858 -0.295050 -0.295050 -0.295050  0.493151 -1.383093  0.493151  \n",
       "4  1.000000 -1.325444 -0.848872  1.242586  1.381773 -1.383093  1.000000  \n",
       "\n",
       "[5 rows x 26 columns]"
      ]
     },
     "execution_count": 57,
     "metadata": {},
     "output_type": "execute_result"
    }
   ],
   "source": [
    "dfresult.head()"
   ]
  },
  {
   "cell_type": "markdown",
   "metadata": {},
   "source": [
    "#### 高速方法"
   ]
  },
  {
   "cell_type": "code",
   "execution_count": 58,
   "metadata": {},
   "outputs": [
    {
     "name": "stdout",
     "output_type": "stream",
     "text": [
      "Wall time: 310 ms\n"
     ]
    }
   ],
   "source": [
    "%%time\n",
    "dfresult = np.sin(df) + np.cos(df)"
   ]
  },
  {
   "cell_type": "code",
   "execution_count": 59,
   "metadata": {},
   "outputs": [
    {
     "data": {
      "text/html": [
       "<div>\n",
       "<style scoped>\n",
       "    .dataframe tbody tr th:only-of-type {\n",
       "        vertical-align: middle;\n",
       "    }\n",
       "\n",
       "    .dataframe tbody tr th {\n",
       "        vertical-align: top;\n",
       "    }\n",
       "\n",
       "    .dataframe thead th {\n",
       "        text-align: right;\n",
       "    }\n",
       "</style>\n",
       "<table border=\"1\" class=\"dataframe\">\n",
       "  <thead>\n",
       "    <tr style=\"text-align: right;\">\n",
       "      <th></th>\n",
       "      <th>a</th>\n",
       "      <th>b</th>\n",
       "      <th>c</th>\n",
       "      <th>d</th>\n",
       "      <th>e</th>\n",
       "      <th>f</th>\n",
       "      <th>g</th>\n",
       "      <th>h</th>\n",
       "      <th>i</th>\n",
       "      <th>j</th>\n",
       "      <th>...</th>\n",
       "      <th>q</th>\n",
       "      <th>r</th>\n",
       "      <th>s</th>\n",
       "      <th>t</th>\n",
       "      <th>u</th>\n",
       "      <th>v</th>\n",
       "      <th>w</th>\n",
       "      <th>x</th>\n",
       "      <th>y</th>\n",
       "      <th>z</th>\n",
       "    </tr>\n",
       "  </thead>\n",
       "  <tbody>\n",
       "    <tr>\n",
       "      <th>0</th>\n",
       "      <td>1.381773</td>\n",
       "      <td>1.242586</td>\n",
       "      <td>0.493151</td>\n",
       "      <td>-1.410446</td>\n",
       "      <td>-1.134858</td>\n",
       "      <td>-1.131113</td>\n",
       "      <td>0.103159</td>\n",
       "      <td>0.843858</td>\n",
       "      <td>1.381773</td>\n",
       "      <td>0.096916</td>\n",
       "      <td>...</td>\n",
       "      <td>-1.383093</td>\n",
       "      <td>-0.499012</td>\n",
       "      <td>1.239586</td>\n",
       "      <td>-0.499012</td>\n",
       "      <td>-0.301169</td>\n",
       "      <td>1.381773</td>\n",
       "      <td>1.381773</td>\n",
       "      <td>1.000000</td>\n",
       "      <td>1.000000</td>\n",
       "      <td>1.000000</td>\n",
       "    </tr>\n",
       "    <tr>\n",
       "      <th>1</th>\n",
       "      <td>-0.848872</td>\n",
       "      <td>-1.325444</td>\n",
       "      <td>-1.325444</td>\n",
       "      <td>-0.848872</td>\n",
       "      <td>0.096916</td>\n",
       "      <td>-1.131113</td>\n",
       "      <td>0.103159</td>\n",
       "      <td>-0.675262</td>\n",
       "      <td>1.410889</td>\n",
       "      <td>1.239586</td>\n",
       "      <td>...</td>\n",
       "      <td>-1.323249</td>\n",
       "      <td>-0.295050</td>\n",
       "      <td>1.381773</td>\n",
       "      <td>-1.323249</td>\n",
       "      <td>1.381773</td>\n",
       "      <td>0.096916</td>\n",
       "      <td>-0.295050</td>\n",
       "      <td>-0.848872</td>\n",
       "      <td>1.410889</td>\n",
       "      <td>0.103159</td>\n",
       "    </tr>\n",
       "    <tr>\n",
       "      <th>2</th>\n",
       "      <td>1.000000</td>\n",
       "      <td>1.410889</td>\n",
       "      <td>-1.410446</td>\n",
       "      <td>1.410889</td>\n",
       "      <td>1.242586</td>\n",
       "      <td>1.242586</td>\n",
       "      <td>-1.134858</td>\n",
       "      <td>-0.499012</td>\n",
       "      <td>-0.301169</td>\n",
       "      <td>-1.131113</td>\n",
       "      <td>...</td>\n",
       "      <td>-0.675262</td>\n",
       "      <td>-1.323249</td>\n",
       "      <td>-0.848872</td>\n",
       "      <td>0.493151</td>\n",
       "      <td>0.843858</td>\n",
       "      <td>-1.131113</td>\n",
       "      <td>-1.131113</td>\n",
       "      <td>1.410889</td>\n",
       "      <td>1.000000</td>\n",
       "      <td>1.000000</td>\n",
       "    </tr>\n",
       "    <tr>\n",
       "      <th>3</th>\n",
       "      <td>-1.134858</td>\n",
       "      <td>-0.301169</td>\n",
       "      <td>0.843858</td>\n",
       "      <td>-0.295050</td>\n",
       "      <td>-0.499012</td>\n",
       "      <td>-1.323249</td>\n",
       "      <td>-0.295050</td>\n",
       "      <td>0.493151</td>\n",
       "      <td>1.242586</td>\n",
       "      <td>-0.675262</td>\n",
       "      <td>...</td>\n",
       "      <td>1.242586</td>\n",
       "      <td>1.000000</td>\n",
       "      <td>0.680755</td>\n",
       "      <td>0.843858</td>\n",
       "      <td>-0.295050</td>\n",
       "      <td>-0.295050</td>\n",
       "      <td>-0.295050</td>\n",
       "      <td>0.493151</td>\n",
       "      <td>-1.383093</td>\n",
       "      <td>0.493151</td>\n",
       "    </tr>\n",
       "    <tr>\n",
       "      <th>4</th>\n",
       "      <td>1.381773</td>\n",
       "      <td>1.242586</td>\n",
       "      <td>0.103159</td>\n",
       "      <td>-1.325444</td>\n",
       "      <td>-1.325444</td>\n",
       "      <td>1.239586</td>\n",
       "      <td>-1.410446</td>\n",
       "      <td>-0.675262</td>\n",
       "      <td>-1.323249</td>\n",
       "      <td>1.410889</td>\n",
       "      <td>...</td>\n",
       "      <td>0.680755</td>\n",
       "      <td>-1.410446</td>\n",
       "      <td>-1.410446</td>\n",
       "      <td>1.000000</td>\n",
       "      <td>-1.325444</td>\n",
       "      <td>-0.848872</td>\n",
       "      <td>1.242586</td>\n",
       "      <td>1.381773</td>\n",
       "      <td>-1.383093</td>\n",
       "      <td>1.000000</td>\n",
       "    </tr>\n",
       "  </tbody>\n",
       "</table>\n",
       "<p>5 rows × 26 columns</p>\n",
       "</div>"
      ],
      "text/plain": [
       "          a         b         c         d         e         f         g  \\\n",
       "0  1.381773  1.242586  0.493151 -1.410446 -1.134858 -1.131113  0.103159   \n",
       "1 -0.848872 -1.325444 -1.325444 -0.848872  0.096916 -1.131113  0.103159   \n",
       "2  1.000000  1.410889 -1.410446  1.410889  1.242586  1.242586 -1.134858   \n",
       "3 -1.134858 -0.301169  0.843858 -0.295050 -0.499012 -1.323249 -0.295050   \n",
       "4  1.381773  1.242586  0.103159 -1.325444 -1.325444  1.239586 -1.410446   \n",
       "\n",
       "          h         i         j    ...            q         r         s  \\\n",
       "0  0.843858  1.381773  0.096916    ...    -1.383093 -0.499012  1.239586   \n",
       "1 -0.675262  1.410889  1.239586    ...    -1.323249 -0.295050  1.381773   \n",
       "2 -0.499012 -0.301169 -1.131113    ...    -0.675262 -1.323249 -0.848872   \n",
       "3  0.493151  1.242586 -0.675262    ...     1.242586  1.000000  0.680755   \n",
       "4 -0.675262 -1.323249  1.410889    ...     0.680755 -1.410446 -1.410446   \n",
       "\n",
       "          t         u         v         w         x         y         z  \n",
       "0 -0.499012 -0.301169  1.381773  1.381773  1.000000  1.000000  1.000000  \n",
       "1 -1.323249  1.381773  0.096916 -0.295050 -0.848872  1.410889  0.103159  \n",
       "2  0.493151  0.843858 -1.131113 -1.131113  1.410889  1.000000  1.000000  \n",
       "3  0.843858 -0.295050 -0.295050 -0.295050  0.493151 -1.383093  0.493151  \n",
       "4  1.000000 -1.325444 -0.848872  1.242586  1.381773 -1.383093  1.000000  \n",
       "\n",
       "[5 rows x 26 columns]"
      ]
     },
     "execution_count": 59,
     "metadata": {},
     "output_type": "execute_result"
    }
   ],
   "source": [
    "dfresult.head()"
   ]
  },
  {
   "cell_type": "markdown",
   "metadata": {},
   "source": [
    "### 18. 使用预分配存储代替动态扩容"
   ]
  },
  {
   "cell_type": "markdown",
   "metadata": {},
   "source": [
    "#### 低速方法"
   ]
  },
  {
   "cell_type": "code",
   "execution_count": 60,
   "metadata": {},
   "outputs": [
    {
     "name": "stdout",
     "output_type": "stream",
     "text": [
      "Wall time: 16 s\n"
     ]
    }
   ],
   "source": [
    "%%time\n",
    "df = pd.DataFrame(columns=list(\"abcdefghijklmnopqrstuvwxyz\"))\n",
    "for i in range(10000):\n",
    "    df.loc[i,:] = range(i,i + 26)"
   ]
  },
  {
   "cell_type": "code",
   "execution_count": 61,
   "metadata": {},
   "outputs": [
    {
     "data": {
      "text/html": [
       "<div>\n",
       "<style scoped>\n",
       "    .dataframe tbody tr th:only-of-type {\n",
       "        vertical-align: middle;\n",
       "    }\n",
       "\n",
       "    .dataframe tbody tr th {\n",
       "        vertical-align: top;\n",
       "    }\n",
       "\n",
       "    .dataframe thead th {\n",
       "        text-align: right;\n",
       "    }\n",
       "</style>\n",
       "<table border=\"1\" class=\"dataframe\">\n",
       "  <thead>\n",
       "    <tr style=\"text-align: right;\">\n",
       "      <th></th>\n",
       "      <th>a</th>\n",
       "      <th>b</th>\n",
       "      <th>c</th>\n",
       "      <th>d</th>\n",
       "      <th>e</th>\n",
       "      <th>f</th>\n",
       "      <th>g</th>\n",
       "      <th>h</th>\n",
       "      <th>i</th>\n",
       "      <th>j</th>\n",
       "      <th>...</th>\n",
       "      <th>q</th>\n",
       "      <th>r</th>\n",
       "      <th>s</th>\n",
       "      <th>t</th>\n",
       "      <th>u</th>\n",
       "      <th>v</th>\n",
       "      <th>w</th>\n",
       "      <th>x</th>\n",
       "      <th>y</th>\n",
       "      <th>z</th>\n",
       "    </tr>\n",
       "  </thead>\n",
       "  <tbody>\n",
       "    <tr>\n",
       "      <th>0</th>\n",
       "      <td>0.0</td>\n",
       "      <td>1.0</td>\n",
       "      <td>2.0</td>\n",
       "      <td>3.0</td>\n",
       "      <td>4.0</td>\n",
       "      <td>5.0</td>\n",
       "      <td>6.0</td>\n",
       "      <td>7.0</td>\n",
       "      <td>8.0</td>\n",
       "      <td>9.0</td>\n",
       "      <td>...</td>\n",
       "      <td>16.0</td>\n",
       "      <td>17.0</td>\n",
       "      <td>18.0</td>\n",
       "      <td>19.0</td>\n",
       "      <td>20.0</td>\n",
       "      <td>21.0</td>\n",
       "      <td>22.0</td>\n",
       "      <td>23.0</td>\n",
       "      <td>24.0</td>\n",
       "      <td>25.0</td>\n",
       "    </tr>\n",
       "    <tr>\n",
       "      <th>1</th>\n",
       "      <td>1.0</td>\n",
       "      <td>2.0</td>\n",
       "      <td>3.0</td>\n",
       "      <td>4.0</td>\n",
       "      <td>5.0</td>\n",
       "      <td>6.0</td>\n",
       "      <td>7.0</td>\n",
       "      <td>8.0</td>\n",
       "      <td>9.0</td>\n",
       "      <td>10.0</td>\n",
       "      <td>...</td>\n",
       "      <td>17.0</td>\n",
       "      <td>18.0</td>\n",
       "      <td>19.0</td>\n",
       "      <td>20.0</td>\n",
       "      <td>21.0</td>\n",
       "      <td>22.0</td>\n",
       "      <td>23.0</td>\n",
       "      <td>24.0</td>\n",
       "      <td>25.0</td>\n",
       "      <td>26.0</td>\n",
       "    </tr>\n",
       "    <tr>\n",
       "      <th>2</th>\n",
       "      <td>2.0</td>\n",
       "      <td>3.0</td>\n",
       "      <td>4.0</td>\n",
       "      <td>5.0</td>\n",
       "      <td>6.0</td>\n",
       "      <td>7.0</td>\n",
       "      <td>8.0</td>\n",
       "      <td>9.0</td>\n",
       "      <td>10.0</td>\n",
       "      <td>11.0</td>\n",
       "      <td>...</td>\n",
       "      <td>18.0</td>\n",
       "      <td>19.0</td>\n",
       "      <td>20.0</td>\n",
       "      <td>21.0</td>\n",
       "      <td>22.0</td>\n",
       "      <td>23.0</td>\n",
       "      <td>24.0</td>\n",
       "      <td>25.0</td>\n",
       "      <td>26.0</td>\n",
       "      <td>27.0</td>\n",
       "    </tr>\n",
       "    <tr>\n",
       "      <th>3</th>\n",
       "      <td>3.0</td>\n",
       "      <td>4.0</td>\n",
       "      <td>5.0</td>\n",
       "      <td>6.0</td>\n",
       "      <td>7.0</td>\n",
       "      <td>8.0</td>\n",
       "      <td>9.0</td>\n",
       "      <td>10.0</td>\n",
       "      <td>11.0</td>\n",
       "      <td>12.0</td>\n",
       "      <td>...</td>\n",
       "      <td>19.0</td>\n",
       "      <td>20.0</td>\n",
       "      <td>21.0</td>\n",
       "      <td>22.0</td>\n",
       "      <td>23.0</td>\n",
       "      <td>24.0</td>\n",
       "      <td>25.0</td>\n",
       "      <td>26.0</td>\n",
       "      <td>27.0</td>\n",
       "      <td>28.0</td>\n",
       "    </tr>\n",
       "    <tr>\n",
       "      <th>4</th>\n",
       "      <td>4.0</td>\n",
       "      <td>5.0</td>\n",
       "      <td>6.0</td>\n",
       "      <td>7.0</td>\n",
       "      <td>8.0</td>\n",
       "      <td>9.0</td>\n",
       "      <td>10.0</td>\n",
       "      <td>11.0</td>\n",
       "      <td>12.0</td>\n",
       "      <td>13.0</td>\n",
       "      <td>...</td>\n",
       "      <td>20.0</td>\n",
       "      <td>21.0</td>\n",
       "      <td>22.0</td>\n",
       "      <td>23.0</td>\n",
       "      <td>24.0</td>\n",
       "      <td>25.0</td>\n",
       "      <td>26.0</td>\n",
       "      <td>27.0</td>\n",
       "      <td>28.0</td>\n",
       "      <td>29.0</td>\n",
       "    </tr>\n",
       "  </tbody>\n",
       "</table>\n",
       "<p>5 rows × 26 columns</p>\n",
       "</div>"
      ],
      "text/plain": [
       "     a    b    c    d    e    f     g     h     i     j  ...      q     r  \\\n",
       "0  0.0  1.0  2.0  3.0  4.0  5.0   6.0   7.0   8.0   9.0  ...   16.0  17.0   \n",
       "1  1.0  2.0  3.0  4.0  5.0  6.0   7.0   8.0   9.0  10.0  ...   17.0  18.0   \n",
       "2  2.0  3.0  4.0  5.0  6.0  7.0   8.0   9.0  10.0  11.0  ...   18.0  19.0   \n",
       "3  3.0  4.0  5.0  6.0  7.0  8.0   9.0  10.0  11.0  12.0  ...   19.0  20.0   \n",
       "4  4.0  5.0  6.0  7.0  8.0  9.0  10.0  11.0  12.0  13.0  ...   20.0  21.0   \n",
       "\n",
       "      s     t     u     v     w     x     y     z  \n",
       "0  18.0  19.0  20.0  21.0  22.0  23.0  24.0  25.0  \n",
       "1  19.0  20.0  21.0  22.0  23.0  24.0  25.0  26.0  \n",
       "2  20.0  21.0  22.0  23.0  24.0  25.0  26.0  27.0  \n",
       "3  21.0  22.0  23.0  24.0  25.0  26.0  27.0  28.0  \n",
       "4  22.0  23.0  24.0  25.0  26.0  27.0  28.0  29.0  \n",
       "\n",
       "[5 rows x 26 columns]"
      ]
     },
     "execution_count": 61,
     "metadata": {},
     "output_type": "execute_result"
    }
   ],
   "source": [
    "df.head()"
   ]
  },
  {
   "cell_type": "markdown",
   "metadata": {},
   "source": [
    "#### 高速方法"
   ]
  },
  {
   "cell_type": "code",
   "execution_count": 63,
   "metadata": {},
   "outputs": [
    {
     "name": "stdout",
     "output_type": "stream",
     "text": [
      "Wall time: 2.49 s\n"
     ]
    }
   ],
   "source": [
    "%%time\n",
    "df = pd.DataFrame(np.zeros((10000,26)),columns=list(\"abcdefghijklmnopqrstuvwxyz\"))\n",
    "for i in range(10000):\n",
    "    df.loc[i,:] = range(i,i + 26)"
   ]
  },
  {
   "cell_type": "markdown",
   "metadata": {},
   "source": [
    "### 19. 使用csv文件读写代替excel文件读写"
   ]
  },
  {
   "cell_type": "markdown",
   "metadata": {},
   "source": [
    "#### 低速方法"
   ]
  },
  {
   "cell_type": "code",
   "execution_count": 65,
   "metadata": {},
   "outputs": [
    {
     "name": "stdout",
     "output_type": "stream",
     "text": [
      "Wall time: 5.04 s\n"
     ]
    }
   ],
   "source": [
    "%%time\n",
    "df.to_excel(\"data.xlsx\")"
   ]
  },
  {
   "cell_type": "markdown",
   "metadata": {},
   "source": [
    "#### 高速方法"
   ]
  },
  {
   "cell_type": "code",
   "execution_count": 67,
   "metadata": {},
   "outputs": [
    {
     "name": "stdout",
     "output_type": "stream",
     "text": [
      "Wall time: 283 ms\n"
     ]
    }
   ],
   "source": [
    "%%time\n",
    "df.to_csv(\"data.csv\")"
   ]
  },
  {
   "cell_type": "markdown",
   "metadata": {},
   "source": [
    "### 20. 使用pandas多进程工具pandarallel"
   ]
  },
  {
   "cell_type": "code",
   "execution_count": 68,
   "metadata": {},
   "outputs": [],
   "source": [
    "df = pd.DataFrame(np.random.randint(-10,11,size=(100000,26)),\n",
    "                  columns=list(\"abcdefghijklmnopqrstuvwxyz\"))"
   ]
  },
  {
   "cell_type": "code",
   "execution_count": 70,
   "metadata": {},
   "outputs": [
    {
     "name": "stdout",
     "output_type": "stream",
     "text": [
      "Wall time: 9.57 s\n"
     ]
    }
   ],
   "source": [
    "%%time\n",
    "result = df.apply(np.sum,axis=1)"
   ]
  },
  {
   "cell_type": "code",
   "execution_count": 71,
   "metadata": {},
   "outputs": [
    {
     "data": {
      "text/plain": [
       "0   -41\n",
       "1    35\n",
       "2   -41\n",
       "3    68\n",
       "4     6\n",
       "dtype: int64"
      ]
     },
     "execution_count": 71,
     "metadata": {},
     "output_type": "execute_result"
    }
   ],
   "source": [
    "result.head()"
   ]
  },
  {
   "cell_type": "markdown",
   "metadata": {},
   "source": [
    "#### 高速方法"
   ]
  },
  {
   "cell_type": "code",
   "execution_count": null,
   "metadata": {},
   "outputs": [],
   "source": [
    "%%time\n",
    "from pandarallel import pandarallel\n",
    "pandarallel.initiallize(nb_workers=4)\n",
    "result = df.parallel_apply(np.sum,axis=1)"
   ]
  },
  {
   "cell_type": "markdown",
   "metadata": {},
   "source": [
    "## 使用Dask进行加速\n",
    "### 21. 使用dask加速dataframe"
   ]
  },
  {
   "cell_type": "markdown",
   "metadata": {},
   "source": [
    "#### 低速方法"
   ]
  },
  {
   "cell_type": "code",
   "execution_count": 74,
   "metadata": {},
   "outputs": [
    {
     "name": "stdout",
     "output_type": "stream",
     "text": [
      "Wall time: 54.6 ms\n"
     ]
    },
    {
     "data": {
      "text/html": [
       "<div>\n",
       "<style scoped>\n",
       "    .dataframe tbody tr th:only-of-type {\n",
       "        vertical-align: middle;\n",
       "    }\n",
       "\n",
       "    .dataframe tbody tr th {\n",
       "        vertical-align: top;\n",
       "    }\n",
       "\n",
       "    .dataframe thead th {\n",
       "        text-align: right;\n",
       "    }\n",
       "</style>\n",
       "<table border=\"1\" class=\"dataframe\">\n",
       "  <thead>\n",
       "    <tr style=\"text-align: right;\">\n",
       "      <th></th>\n",
       "      <th>b</th>\n",
       "      <th>c</th>\n",
       "      <th>d</th>\n",
       "      <th>e</th>\n",
       "      <th>f</th>\n",
       "      <th>g</th>\n",
       "      <th>h</th>\n",
       "      <th>i</th>\n",
       "      <th>j</th>\n",
       "      <th>k</th>\n",
       "      <th>...</th>\n",
       "      <th>q</th>\n",
       "      <th>r</th>\n",
       "      <th>s</th>\n",
       "      <th>t</th>\n",
       "      <th>u</th>\n",
       "      <th>v</th>\n",
       "      <th>w</th>\n",
       "      <th>x</th>\n",
       "      <th>y</th>\n",
       "      <th>z</th>\n",
       "    </tr>\n",
       "    <tr>\n",
       "      <th>a</th>\n",
       "      <th></th>\n",
       "      <th></th>\n",
       "      <th></th>\n",
       "      <th></th>\n",
       "      <th></th>\n",
       "      <th></th>\n",
       "      <th></th>\n",
       "      <th></th>\n",
       "      <th></th>\n",
       "      <th></th>\n",
       "      <th></th>\n",
       "      <th></th>\n",
       "      <th></th>\n",
       "      <th></th>\n",
       "      <th></th>\n",
       "      <th></th>\n",
       "      <th></th>\n",
       "      <th></th>\n",
       "      <th></th>\n",
       "      <th></th>\n",
       "      <th></th>\n",
       "    </tr>\n",
       "  </thead>\n",
       "  <tbody>\n",
       "    <tr>\n",
       "      <th>-10</th>\n",
       "      <td>0.066513</td>\n",
       "      <td>0.038397</td>\n",
       "      <td>-0.051825</td>\n",
       "      <td>0.199119</td>\n",
       "      <td>0.032522</td>\n",
       "      <td>0.048258</td>\n",
       "      <td>0.089173</td>\n",
       "      <td>0.087285</td>\n",
       "      <td>-0.176878</td>\n",
       "      <td>-0.026437</td>\n",
       "      <td>...</td>\n",
       "      <td>-0.100923</td>\n",
       "      <td>0.032102</td>\n",
       "      <td>0.097146</td>\n",
       "      <td>0.048468</td>\n",
       "      <td>-0.052665</td>\n",
       "      <td>-0.096517</td>\n",
       "      <td>-0.086236</td>\n",
       "      <td>0.056022</td>\n",
       "      <td>0.026227</td>\n",
       "      <td>-0.023290</td>\n",
       "    </tr>\n",
       "    <tr>\n",
       "      <th>-9</th>\n",
       "      <td>0.076331</td>\n",
       "      <td>-0.168484</td>\n",
       "      <td>-0.003635</td>\n",
       "      <td>-0.052384</td>\n",
       "      <td>0.112038</td>\n",
       "      <td>-0.037631</td>\n",
       "      <td>-0.088518</td>\n",
       "      <td>-0.258499</td>\n",
       "      <td>-0.147317</td>\n",
       "      <td>0.097926</td>\n",
       "      <td>...</td>\n",
       "      <td>0.037631</td>\n",
       "      <td>0.012615</td>\n",
       "      <td>0.075903</td>\n",
       "      <td>-0.076545</td>\n",
       "      <td>-0.018602</td>\n",
       "      <td>0.085311</td>\n",
       "      <td>-0.002566</td>\n",
       "      <td>0.124439</td>\n",
       "      <td>-0.092795</td>\n",
       "      <td>0.050032</td>\n",
       "    </tr>\n",
       "    <tr>\n",
       "      <th>-8</th>\n",
       "      <td>-0.123756</td>\n",
       "      <td>-0.016376</td>\n",
       "      <td>0.136816</td>\n",
       "      <td>0.174337</td>\n",
       "      <td>0.072761</td>\n",
       "      <td>-0.063847</td>\n",
       "      <td>-0.147181</td>\n",
       "      <td>-0.088930</td>\n",
       "      <td>0.027985</td>\n",
       "      <td>-0.049544</td>\n",
       "      <td>...</td>\n",
       "      <td>0.004146</td>\n",
       "      <td>0.099502</td>\n",
       "      <td>0.060945</td>\n",
       "      <td>-0.024876</td>\n",
       "      <td>-0.148217</td>\n",
       "      <td>0.014718</td>\n",
       "      <td>-0.043118</td>\n",
       "      <td>-0.138060</td>\n",
       "      <td>-0.066128</td>\n",
       "      <td>0.065506</td>\n",
       "    </tr>\n",
       "    <tr>\n",
       "      <th>-7</th>\n",
       "      <td>-0.121046</td>\n",
       "      <td>0.136651</td>\n",
       "      <td>0.167018</td>\n",
       "      <td>-0.096584</td>\n",
       "      <td>-0.020666</td>\n",
       "      <td>0.056938</td>\n",
       "      <td>-0.025306</td>\n",
       "      <td>0.119570</td>\n",
       "      <td>0.119781</td>\n",
       "      <td>-0.141501</td>\n",
       "      <td>...</td>\n",
       "      <td>-0.070856</td>\n",
       "      <td>0.023408</td>\n",
       "      <td>-0.081400</td>\n",
       "      <td>-0.004639</td>\n",
       "      <td>-0.060523</td>\n",
       "      <td>-0.027836</td>\n",
       "      <td>0.063264</td>\n",
       "      <td>-0.094053</td>\n",
       "      <td>0.015183</td>\n",
       "      <td>0.000000</td>\n",
       "    </tr>\n",
       "    <tr>\n",
       "      <th>-6</th>\n",
       "      <td>0.128793</td>\n",
       "      <td>0.047884</td>\n",
       "      <td>-0.070175</td>\n",
       "      <td>0.035707</td>\n",
       "      <td>-0.038390</td>\n",
       "      <td>-0.046852</td>\n",
       "      <td>-0.087926</td>\n",
       "      <td>0.009701</td>\n",
       "      <td>0.034056</td>\n",
       "      <td>-0.169866</td>\n",
       "      <td>...</td>\n",
       "      <td>0.106502</td>\n",
       "      <td>-0.103612</td>\n",
       "      <td>0.030341</td>\n",
       "      <td>-0.033024</td>\n",
       "      <td>0.030547</td>\n",
       "      <td>0.160784</td>\n",
       "      <td>-0.033230</td>\n",
       "      <td>0.107327</td>\n",
       "      <td>0.010526</td>\n",
       "      <td>-0.088338</td>\n",
       "    </tr>\n",
       "    <tr>\n",
       "      <th>-5</th>\n",
       "      <td>0.133834</td>\n",
       "      <td>0.078591</td>\n",
       "      <td>0.102564</td>\n",
       "      <td>-0.068793</td>\n",
       "      <td>-0.086095</td>\n",
       "      <td>-0.195747</td>\n",
       "      <td>-0.104440</td>\n",
       "      <td>-0.021055</td>\n",
       "      <td>-0.074838</td>\n",
       "      <td>-0.142172</td>\n",
       "      <td>...</td>\n",
       "      <td>0.026892</td>\n",
       "      <td>-0.063790</td>\n",
       "      <td>0.006671</td>\n",
       "      <td>0.202627</td>\n",
       "      <td>0.097769</td>\n",
       "      <td>0.002293</td>\n",
       "      <td>-0.029185</td>\n",
       "      <td>-0.089014</td>\n",
       "      <td>0.103815</td>\n",
       "      <td>-0.053784</td>\n",
       "    </tr>\n",
       "    <tr>\n",
       "      <th>-4</th>\n",
       "      <td>0.110806</td>\n",
       "      <td>0.085268</td>\n",
       "      <td>-0.054664</td>\n",
       "      <td>0.062263</td>\n",
       "      <td>-0.001688</td>\n",
       "      <td>0.040523</td>\n",
       "      <td>0.217391</td>\n",
       "      <td>-0.013086</td>\n",
       "      <td>0.115027</td>\n",
       "      <td>-0.033770</td>\n",
       "      <td>...</td>\n",
       "      <td>-0.131068</td>\n",
       "      <td>-0.001477</td>\n",
       "      <td>-0.120937</td>\n",
       "      <td>-0.013086</td>\n",
       "      <td>0.021106</td>\n",
       "      <td>-0.123892</td>\n",
       "      <td>-0.040101</td>\n",
       "      <td>0.072393</td>\n",
       "      <td>-0.007809</td>\n",
       "      <td>-0.066695</td>\n",
       "    </tr>\n",
       "    <tr>\n",
       "      <th>-3</th>\n",
       "      <td>-0.104084</td>\n",
       "      <td>-0.084607</td>\n",
       "      <td>-0.050471</td>\n",
       "      <td>0.013822</td>\n",
       "      <td>-0.080419</td>\n",
       "      <td>-0.062827</td>\n",
       "      <td>-0.004398</td>\n",
       "      <td>0.038953</td>\n",
       "      <td>-0.010052</td>\n",
       "      <td>0.059686</td>\n",
       "      <td>...</td>\n",
       "      <td>0.002723</td>\n",
       "      <td>0.123770</td>\n",
       "      <td>-0.066178</td>\n",
       "      <td>0.045026</td>\n",
       "      <td>-0.036440</td>\n",
       "      <td>0.035183</td>\n",
       "      <td>0.050052</td>\n",
       "      <td>0.024084</td>\n",
       "      <td>-0.014869</td>\n",
       "      <td>0.055707</td>\n",
       "    </tr>\n",
       "    <tr>\n",
       "      <th>-2</th>\n",
       "      <td>-0.078025</td>\n",
       "      <td>0.074818</td>\n",
       "      <td>-0.027576</td>\n",
       "      <td>-0.101753</td>\n",
       "      <td>0.055793</td>\n",
       "      <td>0.006199</td>\n",
       "      <td>-0.049808</td>\n",
       "      <td>0.164173</td>\n",
       "      <td>-0.010047</td>\n",
       "      <td>-0.010047</td>\n",
       "      <td>...</td>\n",
       "      <td>-0.006627</td>\n",
       "      <td>-0.036554</td>\n",
       "      <td>-0.087858</td>\n",
       "      <td>0.022232</td>\n",
       "      <td>0.000855</td>\n",
       "      <td>-0.245618</td>\n",
       "      <td>0.054510</td>\n",
       "      <td>-0.025866</td>\n",
       "      <td>-0.115220</td>\n",
       "      <td>-0.021163</td>\n",
       "    </tr>\n",
       "    <tr>\n",
       "      <th>-1</th>\n",
       "      <td>0.001064</td>\n",
       "      <td>-0.082145</td>\n",
       "      <td>0.017238</td>\n",
       "      <td>-0.034688</td>\n",
       "      <td>0.099808</td>\n",
       "      <td>0.018089</td>\n",
       "      <td>0.041073</td>\n",
       "      <td>-0.075122</td>\n",
       "      <td>0.166206</td>\n",
       "      <td>0.020004</td>\n",
       "      <td>...</td>\n",
       "      <td>-0.044690</td>\n",
       "      <td>0.092573</td>\n",
       "      <td>-0.077676</td>\n",
       "      <td>0.014046</td>\n",
       "      <td>0.179825</td>\n",
       "      <td>0.115982</td>\n",
       "      <td>0.026389</td>\n",
       "      <td>-0.012769</td>\n",
       "      <td>-0.018089</td>\n",
       "      <td>0.047244</td>\n",
       "    </tr>\n",
       "    <tr>\n",
       "      <th>0</th>\n",
       "      <td>0.040863</td>\n",
       "      <td>0.097283</td>\n",
       "      <td>0.139183</td>\n",
       "      <td>0.044804</td>\n",
       "      <td>-0.031736</td>\n",
       "      <td>-0.053723</td>\n",
       "      <td>-0.069695</td>\n",
       "      <td>0.035677</td>\n",
       "      <td>0.174445</td>\n",
       "      <td>-0.051234</td>\n",
       "      <td>...</td>\n",
       "      <td>0.029869</td>\n",
       "      <td>0.089193</td>\n",
       "      <td>0.093549</td>\n",
       "      <td>0.121137</td>\n",
       "      <td>0.000830</td>\n",
       "      <td>-0.103713</td>\n",
       "      <td>0.025928</td>\n",
       "      <td>0.073014</td>\n",
       "      <td>-0.045219</td>\n",
       "      <td>0.106617</td>\n",
       "    </tr>\n",
       "    <tr>\n",
       "      <th>1</th>\n",
       "      <td>-0.043241</td>\n",
       "      <td>0.016793</td>\n",
       "      <td>-0.102435</td>\n",
       "      <td>0.046180</td>\n",
       "      <td>-0.005668</td>\n",
       "      <td>0.151343</td>\n",
       "      <td>-0.231948</td>\n",
       "      <td>0.050378</td>\n",
       "      <td>0.040092</td>\n",
       "      <td>-0.033585</td>\n",
       "      <td>...</td>\n",
       "      <td>0.008816</td>\n",
       "      <td>-0.032955</td>\n",
       "      <td>-0.081654</td>\n",
       "      <td>-0.013224</td>\n",
       "      <td>0.034635</td>\n",
       "      <td>-0.088581</td>\n",
       "      <td>-0.094249</td>\n",
       "      <td>0.041142</td>\n",
       "      <td>-0.038623</td>\n",
       "      <td>0.061713</td>\n",
       "    </tr>\n",
       "    <tr>\n",
       "      <th>2</th>\n",
       "      <td>-0.066325</td>\n",
       "      <td>-0.088505</td>\n",
       "      <td>-0.142035</td>\n",
       "      <td>0.033056</td>\n",
       "      <td>-0.077628</td>\n",
       "      <td>0.077415</td>\n",
       "      <td>0.066965</td>\n",
       "      <td>0.032203</td>\n",
       "      <td>0.058435</td>\n",
       "      <td>0.031563</td>\n",
       "      <td>...</td>\n",
       "      <td>-0.053530</td>\n",
       "      <td>0.029004</td>\n",
       "      <td>0.000427</td>\n",
       "      <td>0.087225</td>\n",
       "      <td>0.063766</td>\n",
       "      <td>0.093197</td>\n",
       "      <td>0.044359</td>\n",
       "      <td>0.000213</td>\n",
       "      <td>0.038388</td>\n",
       "      <td>-0.048624</td>\n",
       "    </tr>\n",
       "    <tr>\n",
       "      <th>3</th>\n",
       "      <td>0.094773</td>\n",
       "      <td>0.096260</td>\n",
       "      <td>0.067786</td>\n",
       "      <td>0.018062</td>\n",
       "      <td>-0.060561</td>\n",
       "      <td>-0.273056</td>\n",
       "      <td>0.123459</td>\n",
       "      <td>0.046111</td>\n",
       "      <td>0.110285</td>\n",
       "      <td>0.240969</td>\n",
       "      <td>...</td>\n",
       "      <td>0.010200</td>\n",
       "      <td>-0.002337</td>\n",
       "      <td>-0.052061</td>\n",
       "      <td>0.039312</td>\n",
       "      <td>0.063961</td>\n",
       "      <td>-0.067998</td>\n",
       "      <td>0.126434</td>\n",
       "      <td>0.072036</td>\n",
       "      <td>-0.062898</td>\n",
       "      <td>0.067148</td>\n",
       "    </tr>\n",
       "    <tr>\n",
       "      <th>4</th>\n",
       "      <td>-0.134313</td>\n",
       "      <td>0.041391</td>\n",
       "      <td>-0.074710</td>\n",
       "      <td>-0.015728</td>\n",
       "      <td>0.093129</td>\n",
       "      <td>-0.039321</td>\n",
       "      <td>0.075538</td>\n",
       "      <td>0.217922</td>\n",
       "      <td>-0.013659</td>\n",
       "      <td>0.025455</td>\n",
       "      <td>...</td>\n",
       "      <td>0.087955</td>\n",
       "      <td>0.130588</td>\n",
       "      <td>-0.122517</td>\n",
       "      <td>0.036838</td>\n",
       "      <td>-0.047806</td>\n",
       "      <td>0.026490</td>\n",
       "      <td>0.076159</td>\n",
       "      <td>-0.032285</td>\n",
       "      <td>0.085472</td>\n",
       "      <td>-0.009520</td>\n",
       "    </tr>\n",
       "    <tr>\n",
       "      <th>5</th>\n",
       "      <td>-0.024279</td>\n",
       "      <td>-0.253372</td>\n",
       "      <td>0.025731</td>\n",
       "      <td>-0.028014</td>\n",
       "      <td>0.111641</td>\n",
       "      <td>-0.120979</td>\n",
       "      <td>0.036522</td>\n",
       "      <td>0.016393</td>\n",
       "      <td>0.110189</td>\n",
       "      <td>-0.122225</td>\n",
       "      <td>...</td>\n",
       "      <td>0.002490</td>\n",
       "      <td>-0.053953</td>\n",
       "      <td>0.112264</td>\n",
       "      <td>-0.010791</td>\n",
       "      <td>0.182403</td>\n",
       "      <td>0.077609</td>\n",
       "      <td>0.012036</td>\n",
       "      <td>0.087363</td>\n",
       "      <td>-0.002490</td>\n",
       "      <td>-0.167047</td>\n",
       "    </tr>\n",
       "    <tr>\n",
       "      <th>6</th>\n",
       "      <td>0.000828</td>\n",
       "      <td>0.021325</td>\n",
       "      <td>0.110973</td>\n",
       "      <td>0.018012</td>\n",
       "      <td>-0.097723</td>\n",
       "      <td>-0.102692</td>\n",
       "      <td>0.019462</td>\n",
       "      <td>0.133333</td>\n",
       "      <td>0.018012</td>\n",
       "      <td>-0.053416</td>\n",
       "      <td>...</td>\n",
       "      <td>-0.016977</td>\n",
       "      <td>0.173292</td>\n",
       "      <td>-0.081159</td>\n",
       "      <td>0.008282</td>\n",
       "      <td>0.016356</td>\n",
       "      <td>0.055072</td>\n",
       "      <td>0.010559</td>\n",
       "      <td>0.033954</td>\n",
       "      <td>0.020497</td>\n",
       "      <td>0.113043</td>\n",
       "    </tr>\n",
       "    <tr>\n",
       "      <th>7</th>\n",
       "      <td>-0.044339</td>\n",
       "      <td>-0.061774</td>\n",
       "      <td>-0.085880</td>\n",
       "      <td>0.157124</td>\n",
       "      <td>-0.013775</td>\n",
       "      <td>0.055532</td>\n",
       "      <td>0.017434</td>\n",
       "      <td>0.036375</td>\n",
       "      <td>0.122040</td>\n",
       "      <td>0.010977</td>\n",
       "      <td>...</td>\n",
       "      <td>-0.020017</td>\n",
       "      <td>-0.147654</td>\n",
       "      <td>-0.021954</td>\n",
       "      <td>-0.128498</td>\n",
       "      <td>0.017650</td>\n",
       "      <td>-0.176065</td>\n",
       "      <td>-0.113646</td>\n",
       "      <td>-0.058115</td>\n",
       "      <td>-0.004950</td>\n",
       "      <td>-0.025829</td>\n",
       "    </tr>\n",
       "    <tr>\n",
       "      <th>8</th>\n",
       "      <td>-0.129079</td>\n",
       "      <td>-0.074413</td>\n",
       "      <td>-0.036167</td>\n",
       "      <td>-0.099771</td>\n",
       "      <td>-0.018291</td>\n",
       "      <td>-0.152151</td>\n",
       "      <td>0.007899</td>\n",
       "      <td>0.041364</td>\n",
       "      <td>-0.041779</td>\n",
       "      <td>-0.168156</td>\n",
       "      <td>...</td>\n",
       "      <td>0.063189</td>\n",
       "      <td>0.013926</td>\n",
       "      <td>0.019746</td>\n",
       "      <td>-0.059863</td>\n",
       "      <td>0.000416</td>\n",
       "      <td>0.080233</td>\n",
       "      <td>-0.058200</td>\n",
       "      <td>0.104968</td>\n",
       "      <td>0.005612</td>\n",
       "      <td>0.146123</td>\n",
       "    </tr>\n",
       "    <tr>\n",
       "      <th>9</th>\n",
       "      <td>-0.060325</td>\n",
       "      <td>0.101297</td>\n",
       "      <td>-0.026148</td>\n",
       "      <td>0.149887</td>\n",
       "      <td>-0.003294</td>\n",
       "      <td>-0.057443</td>\n",
       "      <td>0.045707</td>\n",
       "      <td>-0.002471</td>\n",
       "      <td>0.197447</td>\n",
       "      <td>0.190859</td>\n",
       "      <td>...</td>\n",
       "      <td>0.103562</td>\n",
       "      <td>-0.124768</td>\n",
       "      <td>0.033560</td>\n",
       "      <td>-0.025118</td>\n",
       "      <td>-0.019148</td>\n",
       "      <td>0.025736</td>\n",
       "      <td>-0.142269</td>\n",
       "      <td>0.149063</td>\n",
       "      <td>0.010294</td>\n",
       "      <td>-0.013589</td>\n",
       "    </tr>\n",
       "    <tr>\n",
       "      <th>10</th>\n",
       "      <td>-0.042058</td>\n",
       "      <td>0.050171</td>\n",
       "      <td>0.084970</td>\n",
       "      <td>-0.017506</td>\n",
       "      <td>0.096712</td>\n",
       "      <td>0.030529</td>\n",
       "      <td>-0.078992</td>\n",
       "      <td>0.154996</td>\n",
       "      <td>0.185525</td>\n",
       "      <td>0.175064</td>\n",
       "      <td>...</td>\n",
       "      <td>0.049744</td>\n",
       "      <td>0.088599</td>\n",
       "      <td>-0.046541</td>\n",
       "      <td>-0.080273</td>\n",
       "      <td>-0.071734</td>\n",
       "      <td>-0.003629</td>\n",
       "      <td>0.131725</td>\n",
       "      <td>0.120623</td>\n",
       "      <td>-0.021990</td>\n",
       "      <td>0.208796</td>\n",
       "    </tr>\n",
       "  </tbody>\n",
       "</table>\n",
       "<p>21 rows × 25 columns</p>\n",
       "</div>"
      ],
      "text/plain": [
       "            b         c         d         e         f         g         h  \\\n",
       "a                                                                           \n",
       "-10  0.066513  0.038397 -0.051825  0.199119  0.032522  0.048258  0.089173   \n",
       "-9   0.076331 -0.168484 -0.003635 -0.052384  0.112038 -0.037631 -0.088518   \n",
       "-8  -0.123756 -0.016376  0.136816  0.174337  0.072761 -0.063847 -0.147181   \n",
       "-7  -0.121046  0.136651  0.167018 -0.096584 -0.020666  0.056938 -0.025306   \n",
       "-6   0.128793  0.047884 -0.070175  0.035707 -0.038390 -0.046852 -0.087926   \n",
       "-5   0.133834  0.078591  0.102564 -0.068793 -0.086095 -0.195747 -0.104440   \n",
       "-4   0.110806  0.085268 -0.054664  0.062263 -0.001688  0.040523  0.217391   \n",
       "-3  -0.104084 -0.084607 -0.050471  0.013822 -0.080419 -0.062827 -0.004398   \n",
       "-2  -0.078025  0.074818 -0.027576 -0.101753  0.055793  0.006199 -0.049808   \n",
       "-1   0.001064 -0.082145  0.017238 -0.034688  0.099808  0.018089  0.041073   \n",
       " 0   0.040863  0.097283  0.139183  0.044804 -0.031736 -0.053723 -0.069695   \n",
       " 1  -0.043241  0.016793 -0.102435  0.046180 -0.005668  0.151343 -0.231948   \n",
       " 2  -0.066325 -0.088505 -0.142035  0.033056 -0.077628  0.077415  0.066965   \n",
       " 3   0.094773  0.096260  0.067786  0.018062 -0.060561 -0.273056  0.123459   \n",
       " 4  -0.134313  0.041391 -0.074710 -0.015728  0.093129 -0.039321  0.075538   \n",
       " 5  -0.024279 -0.253372  0.025731 -0.028014  0.111641 -0.120979  0.036522   \n",
       " 6   0.000828  0.021325  0.110973  0.018012 -0.097723 -0.102692  0.019462   \n",
       " 7  -0.044339 -0.061774 -0.085880  0.157124 -0.013775  0.055532  0.017434   \n",
       " 8  -0.129079 -0.074413 -0.036167 -0.099771 -0.018291 -0.152151  0.007899   \n",
       " 9  -0.060325  0.101297 -0.026148  0.149887 -0.003294 -0.057443  0.045707   \n",
       " 10 -0.042058  0.050171  0.084970 -0.017506  0.096712  0.030529 -0.078992   \n",
       "\n",
       "            i         j         k    ...            q         r         s  \\\n",
       "a                                    ...                                    \n",
       "-10  0.087285 -0.176878 -0.026437    ...    -0.100923  0.032102  0.097146   \n",
       "-9  -0.258499 -0.147317  0.097926    ...     0.037631  0.012615  0.075903   \n",
       "-8  -0.088930  0.027985 -0.049544    ...     0.004146  0.099502  0.060945   \n",
       "-7   0.119570  0.119781 -0.141501    ...    -0.070856  0.023408 -0.081400   \n",
       "-6   0.009701  0.034056 -0.169866    ...     0.106502 -0.103612  0.030341   \n",
       "-5  -0.021055 -0.074838 -0.142172    ...     0.026892 -0.063790  0.006671   \n",
       "-4  -0.013086  0.115027 -0.033770    ...    -0.131068 -0.001477 -0.120937   \n",
       "-3   0.038953 -0.010052  0.059686    ...     0.002723  0.123770 -0.066178   \n",
       "-2   0.164173 -0.010047 -0.010047    ...    -0.006627 -0.036554 -0.087858   \n",
       "-1  -0.075122  0.166206  0.020004    ...    -0.044690  0.092573 -0.077676   \n",
       " 0   0.035677  0.174445 -0.051234    ...     0.029869  0.089193  0.093549   \n",
       " 1   0.050378  0.040092 -0.033585    ...     0.008816 -0.032955 -0.081654   \n",
       " 2   0.032203  0.058435  0.031563    ...    -0.053530  0.029004  0.000427   \n",
       " 3   0.046111  0.110285  0.240969    ...     0.010200 -0.002337 -0.052061   \n",
       " 4   0.217922 -0.013659  0.025455    ...     0.087955  0.130588 -0.122517   \n",
       " 5   0.016393  0.110189 -0.122225    ...     0.002490 -0.053953  0.112264   \n",
       " 6   0.133333  0.018012 -0.053416    ...    -0.016977  0.173292 -0.081159   \n",
       " 7   0.036375  0.122040  0.010977    ...    -0.020017 -0.147654 -0.021954   \n",
       " 8   0.041364 -0.041779 -0.168156    ...     0.063189  0.013926  0.019746   \n",
       " 9  -0.002471  0.197447  0.190859    ...     0.103562 -0.124768  0.033560   \n",
       " 10  0.154996  0.185525  0.175064    ...     0.049744  0.088599 -0.046541   \n",
       "\n",
       "            t         u         v         w         x         y         z  \n",
       "a                                                                          \n",
       "-10  0.048468 -0.052665 -0.096517 -0.086236  0.056022  0.026227 -0.023290  \n",
       "-9  -0.076545 -0.018602  0.085311 -0.002566  0.124439 -0.092795  0.050032  \n",
       "-8  -0.024876 -0.148217  0.014718 -0.043118 -0.138060 -0.066128  0.065506  \n",
       "-7  -0.004639 -0.060523 -0.027836  0.063264 -0.094053  0.015183  0.000000  \n",
       "-6  -0.033024  0.030547  0.160784 -0.033230  0.107327  0.010526 -0.088338  \n",
       "-5   0.202627  0.097769  0.002293 -0.029185 -0.089014  0.103815 -0.053784  \n",
       "-4  -0.013086  0.021106 -0.123892 -0.040101  0.072393 -0.007809 -0.066695  \n",
       "-3   0.045026 -0.036440  0.035183  0.050052  0.024084 -0.014869  0.055707  \n",
       "-2   0.022232  0.000855 -0.245618  0.054510 -0.025866 -0.115220 -0.021163  \n",
       "-1   0.014046  0.179825  0.115982  0.026389 -0.012769 -0.018089  0.047244  \n",
       " 0   0.121137  0.000830 -0.103713  0.025928  0.073014 -0.045219  0.106617  \n",
       " 1  -0.013224  0.034635 -0.088581 -0.094249  0.041142 -0.038623  0.061713  \n",
       " 2   0.087225  0.063766  0.093197  0.044359  0.000213  0.038388 -0.048624  \n",
       " 3   0.039312  0.063961 -0.067998  0.126434  0.072036 -0.062898  0.067148  \n",
       " 4   0.036838 -0.047806  0.026490  0.076159 -0.032285  0.085472 -0.009520  \n",
       " 5  -0.010791  0.182403  0.077609  0.012036  0.087363 -0.002490 -0.167047  \n",
       " 6   0.008282  0.016356  0.055072  0.010559  0.033954  0.020497  0.113043  \n",
       " 7  -0.128498  0.017650 -0.176065 -0.113646 -0.058115 -0.004950 -0.025829  \n",
       " 8  -0.059863  0.000416  0.080233 -0.058200  0.104968  0.005612  0.146123  \n",
       " 9  -0.025118 -0.019148  0.025736 -0.142269  0.149063  0.010294 -0.013589  \n",
       " 10 -0.080273 -0.071734 -0.003629  0.131725  0.120623 -0.021990  0.208796  \n",
       "\n",
       "[21 rows x 25 columns]"
      ]
     },
     "execution_count": 74,
     "metadata": {},
     "output_type": "execute_result"
    }
   ],
   "source": [
    "df = pd.DataFrame(np.random.randint(-10,11,size=(100000,26)),\n",
    "                  columns=list(\"abcdefghijklmnopqrstuvwxyz\"))\n",
    "%time df.groupby('a').mean()"
   ]
  },
  {
   "cell_type": "markdown",
   "metadata": {},
   "source": [
    "#### 高速方法"
   ]
  },
  {
   "cell_type": "code",
   "execution_count": null,
   "metadata": {},
   "outputs": [],
   "source": [
    "import dask.dataframe as dd\n",
    "df_dask = dd.from_pandas(df,npartitions=40)\n",
    "%time df_dask.groupby('a').mean().compute()"
   ]
  },
  {
   "cell_type": "markdown",
   "metadata": {},
   "source": [
    "### 22. 使用dask.delayed进行加速"
   ]
  },
  {
   "cell_type": "markdown",
   "metadata": {},
   "source": [
    "#### 低速方法"
   ]
  },
  {
   "cell_type": "code",
   "execution_count": 76,
   "metadata": {},
   "outputs": [],
   "source": [
    "import time\n",
    "def muchjob(x):\n",
    "    time.sleep(5)\n",
    "    return x ** 2"
   ]
  },
  {
   "cell_type": "code",
   "execution_count": 78,
   "metadata": {},
   "outputs": [
    {
     "name": "stdout",
     "output_type": "stream",
     "text": [
      "Wall time: 25 s\n"
     ]
    }
   ],
   "source": [
    "%%time\n",
    "result = [muchjob(i) for i in range(5)]\n",
    "result"
   ]
  },
  {
   "cell_type": "markdown",
   "metadata": {},
   "source": [
    "#### 高速方法"
   ]
  },
  {
   "cell_type": "code",
   "execution_count": 79,
   "metadata": {},
   "outputs": [
    {
     "name": "stdout",
     "output_type": "stream",
     "text": [
      "Wall time: 10 s\n"
     ]
    }
   ],
   "source": [
    "%%time\n",
    "from dask import delayed,compute\n",
    "from dask import threaded,multiprocessing\n",
    "values = [delayed(muchjob)(i) for i in range(5)]\n",
    "result = compute(*values,scheduler='multiprocessing')"
   ]
  },
  {
   "cell_type": "markdown",
   "metadata": {},
   "source": [
    "## 应用多线程多进程加速\n",
    "### 23. 应用多线程加速IO密集型任务"
   ]
  },
  {
   "cell_type": "markdown",
   "metadata": {},
   "source": [
    "#### 低速方法"
   ]
  },
  {
   "cell_type": "code",
   "execution_count": 80,
   "metadata": {},
   "outputs": [
    {
     "name": "stdout",
     "output_type": "stream",
     "text": [
      "Wall time: 9.24 s\n"
     ]
    }
   ],
   "source": [
    "%%time\n",
    "def writefile(i):\n",
    "    with open(str(i) + '.txt','w') as f:\n",
    "        s = ('hello %d' % i) * 10000000\n",
    "        f.write(s)\n",
    "    \n",
    "# 串行任务\n",
    "for i in range(10):\n",
    "    writefile(i)"
   ]
  },
  {
   "cell_type": "markdown",
   "metadata": {},
   "source": [
    "#### 高速方法"
   ]
  },
  {
   "cell_type": "code",
   "execution_count": 84,
   "metadata": {},
   "outputs": [
    {
     "name": "stdout",
     "output_type": "stream",
     "text": [
      "Wall time: 9.24 s\n"
     ]
    }
   ],
   "source": [
    "%%time\n",
    "import threading\n",
    "\n",
    "def writefile(i):\n",
    "    with open(str(i) + '.txt','w') as f:\n",
    "        s = ('hello %d' % i) * 10000000\n",
    "        f.write(s)\n",
    "\n",
    "# 多线程任务\n",
    "thread_list = []\n",
    "for i in range(10):\n",
    "    t = threading.Thread(target=writefile,args=(i,))\n",
    "    t.setDaemon(True)\n",
    "    thread_list.append(t)\n",
    "    \n",
    "for t in thread_list:\n",
    "    t.start() # 启动线程\n",
    "    \n",
    "for t in thread_list:\n",
    "    t.join() # 等待子线程结束"
   ]
  },
  {
   "cell_type": "markdown",
   "metadata": {},
   "source": [
    "### 24. 应用多进程加速CPU密集型任务"
   ]
  },
  {
   "cell_type": "markdown",
   "metadata": {},
   "source": [
    "#### 低速方法"
   ]
  },
  {
   "cell_type": "code",
   "execution_count": 85,
   "metadata": {},
   "outputs": [
    {
     "name": "stdout",
     "output_type": "stream",
     "text": [
      "[0, 1, 4, 9, 16, 25, 36, 49]\n",
      "Wall time: 40 s\n"
     ]
    }
   ],
   "source": [
    "%%time\n",
    "import time\n",
    "def nuchjob(x):\n",
    "    time.sleep(5)\n",
    "    return x ** 2\n",
    "\n",
    "# 串行任务\n",
    "ans = [muchjob(i) for i in range(8)]\n",
    "print(ans)"
   ]
  },
  {
   "cell_type": "markdown",
   "metadata": {},
   "source": [
    "#### 高速方法"
   ]
  },
  {
   "cell_type": "code",
   "execution_count": null,
   "metadata": {},
   "outputs": [],
   "source": [
    "%%time\n",
    "import multiprocessing\n",
    "data = range(8)\n",
    "\n",
    "def muchjob(x):\n",
    "    time.sleep(5)\n",
    "    return x ** 2\n",
    "\n",
    "# 多进程任务\n",
    "pool = multiprocessing.Pool(processes=4)\n",
    "result = []\n",
    "for i in range(8):\n",
    "    result.append(pool.apply_async(muchjob,(1,)))\n",
    "\n",
    "pool.close()\n",
    "pool.join()\n",
    "ans = [res.get() for res in result]\n",
    "print(ans)"
   ]
  },
  {
   "cell_type": "code",
   "execution_count": null,
   "metadata": {},
   "outputs": [],
   "source": []
  }
 ],
 "metadata": {
  "kernelspec": {
   "display_name": "Python 3",
   "language": "python",
   "name": "python3"
  },
  "language_info": {
   "codemirror_mode": {
    "name": "ipython",
    "version": 3
   },
   "file_extension": ".py",
   "mimetype": "text/x-python",
   "name": "python",
   "nbconvert_exporter": "python",
   "pygments_lexer": "ipython3",
   "version": "3.6.3"
  }
 },
 "nbformat": 4,
 "nbformat_minor": 2
}
